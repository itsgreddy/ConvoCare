{
 "cells": [
  {
   "cell_type": "markdown",
   "metadata": {},
   "source": [
    "# Authentication"
   ]
  },
  {
   "cell_type": "code",
   "execution_count": 10,
   "metadata": {},
   "outputs": [
    {
     "name": "stdout",
     "output_type": "stream",
     "text": [
      "Requirement already satisfied: praw in /Users/sparshbohra/opt/anaconda3/lib/python3.7/site-packages (7.4.0)\n",
      "Requirement already satisfied: update-checker>=0.18 in /Users/sparshbohra/opt/anaconda3/lib/python3.7/site-packages (from praw) (0.18.0)\n",
      "Requirement already satisfied: websocket-client>=0.54.0 in /Users/sparshbohra/opt/anaconda3/lib/python3.7/site-packages (from praw) (0.58.0)\n",
      "Requirement already satisfied: prawcore<3,>=2.1 in /Users/sparshbohra/opt/anaconda3/lib/python3.7/site-packages (from praw) (2.3.0)\n",
      "Requirement already satisfied: requests<3.0,>=2.6.0 in /Users/sparshbohra/opt/anaconda3/lib/python3.7/site-packages (from prawcore<3,>=2.1->praw) (2.25.1)\n",
      "Requirement already satisfied: urllib3<1.27,>=1.21.1 in /Users/sparshbohra/opt/anaconda3/lib/python3.7/site-packages (from requests<3.0,>=2.6.0->prawcore<3,>=2.1->praw) (1.26.2)\n",
      "Requirement already satisfied: certifi>=2017.4.17 in /Users/sparshbohra/opt/anaconda3/lib/python3.7/site-packages (from requests<3.0,>=2.6.0->prawcore<3,>=2.1->praw) (2021.5.30)\n",
      "Requirement already satisfied: idna<3,>=2.5 in /Users/sparshbohra/opt/anaconda3/lib/python3.7/site-packages (from requests<3.0,>=2.6.0->prawcore<3,>=2.1->praw) (2.10)\n",
      "Requirement already satisfied: chardet<5,>=3.0.2 in /Users/sparshbohra/opt/anaconda3/lib/python3.7/site-packages (from requests<3.0,>=2.6.0->prawcore<3,>=2.1->praw) (4.0.0)\n",
      "Requirement already satisfied: six in /Users/sparshbohra/opt/anaconda3/lib/python3.7/site-packages (from websocket-client>=0.54.0->praw) (1.15.0)\n",
      "\u001b[33mWARNING: Error parsing requirements for plotly: [Errno 2] No such file or directory: '/Users/sparshbohra/opt/anaconda3/lib/python3.7/site-packages/plotly-4.14.3.dist-info/METADATA'\u001b[0m\n",
      "Requirement already satisfied: textblob in /Users/sparshbohra/opt/anaconda3/lib/python3.7/site-packages (0.15.3)\n",
      "Requirement already satisfied: nltk>=3.1 in /Users/sparshbohra/opt/anaconda3/lib/python3.7/site-packages (from textblob) (3.5)\n",
      "Requirement already satisfied: regex in /Users/sparshbohra/opt/anaconda3/lib/python3.7/site-packages (from nltk>=3.1->textblob) (2020.11.13)\n",
      "Requirement already satisfied: tqdm in /Users/sparshbohra/opt/anaconda3/lib/python3.7/site-packages (from nltk>=3.1->textblob) (4.55.1)\n",
      "Requirement already satisfied: click in /Users/sparshbohra/opt/anaconda3/lib/python3.7/site-packages (from nltk>=3.1->textblob) (7.1.2)\n",
      "Requirement already satisfied: joblib in /Users/sparshbohra/opt/anaconda3/lib/python3.7/site-packages (from nltk>=3.1->textblob) (1.0.0)\n",
      "\u001b[33mWARNING: Error parsing requirements for plotly: [Errno 2] No such file or directory: '/Users/sparshbohra/opt/anaconda3/lib/python3.7/site-packages/plotly-4.14.3.dist-info/METADATA'\u001b[0m\n"
     ]
    }
   ],
   "source": [
    "!pip install 'praw'\n",
    "!pip install 'textblob'"
   ]
  },
  {
   "cell_type": "code",
   "execution_count": 4,
   "metadata": {},
   "outputs": [],
   "source": [
    "import praw\n",
    "import pandas as pd\n",
    "\n",
    "# customizable variables\n",
    "my_client_secret = '3_2mkql4xpPVqQmkXlFD8NOtWcZ7Ng'\n",
    "my_client_id = 'GTwZc88mJMERuG-1EYh1sQ'\n",
    "my_user_agent = 'HackDuke'\n",
    "topics = ['anxiety', 'depression']\n",
    "num_post_per_topic = 3000"
   ]
  },
  {
   "cell_type": "code",
   "execution_count": 5,
   "metadata": {},
   "outputs": [],
   "source": [
    "reddit = praw.Reddit(client_id=my_client_id, client_secret=my_client_secret, user_agent=my_user_agent)"
   ]
  },
  {
   "cell_type": "markdown",
   "metadata": {},
   "source": [
    "# Start Scraping"
   ]
  },
  {
   "cell_type": "code",
   "execution_count": 6,
   "metadata": {},
   "outputs": [
    {
     "data": {
      "text/html": [
       "<div>\n",
       "<style scoped>\n",
       "    .dataframe tbody tr th:only-of-type {\n",
       "        vertical-align: middle;\n",
       "    }\n",
       "\n",
       "    .dataframe tbody tr th {\n",
       "        vertical-align: top;\n",
       "    }\n",
       "\n",
       "    .dataframe thead th {\n",
       "        text-align: right;\n",
       "    }\n",
       "</style>\n",
       "<table border=\"1\" class=\"dataframe\">\n",
       "  <thead>\n",
       "    <tr style=\"text-align: right;\">\n",
       "      <th></th>\n",
       "      <th>topic</th>\n",
       "      <th>title</th>\n",
       "      <th>score</th>\n",
       "      <th>id</th>\n",
       "      <th>subreddit</th>\n",
       "      <th>url</th>\n",
       "      <th>num_comments</th>\n",
       "      <th>body</th>\n",
       "      <th>created</th>\n",
       "    </tr>\n",
       "  </thead>\n",
       "  <tbody>\n",
       "    <tr>\n",
       "      <th>0</th>\n",
       "      <td>anxiety</td>\n",
       "      <td>Let your light shine!</td>\n",
       "      <td>19</td>\n",
       "      <td>qc0aqd</td>\n",
       "      <td>Anxiety</td>\n",
       "      <td>https://www.reddit.com/r/Anxiety/comments/qc0a...</td>\n",
       "      <td>25</td>\n",
       "      <td>Congrats /r/anxiety we've all made it to Wedne...</td>\n",
       "      <td>1.634735e+09</td>\n",
       "    </tr>\n",
       "    <tr>\n",
       "      <th>1</th>\n",
       "      <td>anxiety</td>\n",
       "      <td>Looking for new mods! (subreddit and Discord)</td>\n",
       "      <td>11</td>\n",
       "      <td>qb0ort</td>\n",
       "      <td>Anxiety</td>\n",
       "      <td>https://www.reddit.com/r/Anxiety/comments/qb0o...</td>\n",
       "      <td>0</td>\n",
       "      <td>With both the subreddit and Discord continuing...</td>\n",
       "      <td>1.634606e+09</td>\n",
       "    </tr>\n",
       "    <tr>\n",
       "      <th>2</th>\n",
       "      <td>anxiety</td>\n",
       "      <td>fuck</td>\n",
       "      <td>409</td>\n",
       "      <td>qe7rl0</td>\n",
       "      <td>Anxiety</td>\n",
       "      <td>https://www.reddit.com/r/Anxiety/comments/qe7r...</td>\n",
       "      <td>47</td>\n",
       "      <td>I went to get my haircut and the person cuttin...</td>\n",
       "      <td>1.635005e+09</td>\n",
       "    </tr>\n",
       "    <tr>\n",
       "      <th>3</th>\n",
       "      <td>anxiety</td>\n",
       "      <td>Does anyone else feel bad for inanimate objects?</td>\n",
       "      <td>143</td>\n",
       "      <td>qeecds</td>\n",
       "      <td>Anxiety</td>\n",
       "      <td>https://www.reddit.com/r/Anxiety/comments/qeec...</td>\n",
       "      <td>27</td>\n",
       "      <td>For example, I feel bad for a snowblower that ...</td>\n",
       "      <td>1.635026e+09</td>\n",
       "    </tr>\n",
       "    <tr>\n",
       "      <th>4</th>\n",
       "      <td>anxiety</td>\n",
       "      <td>Does anybody have like a week of no anxiety th...</td>\n",
       "      <td>248</td>\n",
       "      <td>qe3u9l</td>\n",
       "      <td>Anxiety</td>\n",
       "      <td>https://www.reddit.com/r/Anxiety/comments/qe3u...</td>\n",
       "      <td>26</td>\n",
       "      <td>I swear I have been in a cycle of going “I’ve ...</td>\n",
       "      <td>1.634992e+09</td>\n",
       "    </tr>\n",
       "  </tbody>\n",
       "</table>\n",
       "</div>"
      ],
      "text/plain": [
       "     topic                                              title  score      id  \\\n",
       "0  anxiety                              Let your light shine!     19  qc0aqd   \n",
       "1  anxiety      Looking for new mods! (subreddit and Discord)     11  qb0ort   \n",
       "2  anxiety                                               fuck    409  qe7rl0   \n",
       "3  anxiety   Does anyone else feel bad for inanimate objects?    143  qeecds   \n",
       "4  anxiety  Does anybody have like a week of no anxiety th...    248  qe3u9l   \n",
       "\n",
       "  subreddit                                                url  num_comments  \\\n",
       "0   Anxiety  https://www.reddit.com/r/Anxiety/comments/qc0a...            25   \n",
       "1   Anxiety  https://www.reddit.com/r/Anxiety/comments/qb0o...             0   \n",
       "2   Anxiety  https://www.reddit.com/r/Anxiety/comments/qe7r...            47   \n",
       "3   Anxiety  https://www.reddit.com/r/Anxiety/comments/qeec...            27   \n",
       "4   Anxiety  https://www.reddit.com/r/Anxiety/comments/qe3u...            26   \n",
       "\n",
       "                                                body       created  \n",
       "0  Congrats /r/anxiety we've all made it to Wedne...  1.634735e+09  \n",
       "1  With both the subreddit and Discord continuing...  1.634606e+09  \n",
       "2  I went to get my haircut and the person cuttin...  1.635005e+09  \n",
       "3  For example, I feel bad for a snowblower that ...  1.635026e+09  \n",
       "4  I swear I have been in a cycle of going “I’ve ...  1.634992e+09  "
      ]
     },
     "execution_count": 6,
     "metadata": {},
     "output_type": "execute_result"
    }
   ],
   "source": [
    "posts = []\n",
    "for topic in topics:\n",
    "    ml_subreddit = reddit.subreddit(topic)\n",
    "    for post in ml_subreddit.hot(limit=num_post_per_topic):\n",
    "        posts.append([topic, post.title, post.score, post.id, post.subreddit, post.url, post.num_comments, post.selftext, post.created])\n",
    "\n",
    "posts = pd.DataFrame(posts,columns=['topic','title', 'score', 'id', 'subreddit', 'url', 'num_comments', 'body', 'created'])\n",
    "posts.head(5)"
   ]
  },
  {
   "cell_type": "markdown",
   "metadata": {},
   "source": [
    "# Save as .csv"
   ]
  },
  {
   "cell_type": "code",
   "execution_count": 7,
   "metadata": {},
   "outputs": [],
   "source": [
    "posts.to_csv('data/reddit_data_2.0.csv', encoding='utf-8', index=False)"
   ]
  },
  {
   "cell_type": "code",
   "execution_count": 11,
   "metadata": {},
   "outputs": [
    {
     "data": {
      "text/plain": [
       "Sentiment(polarity=0.0, subjectivity=0.0)"
      ]
     },
     "execution_count": 11,
     "metadata": {},
     "output_type": "execute_result"
    }
   ],
   "source": [
    "from textblob import TextBlob\n",
    "TextBlob(\"not a very great calculation\").sentiment"
   ]
  },
  {
   "cell_type": "code",
   "execution_count": null,
   "metadata": {},
   "outputs": [],
   "source": []
  }
 ],
 "metadata": {
  "kernelspec": {
   "display_name": "Python 3",
   "language": "python",
   "name": "python3"
  },
  "language_info": {
   "codemirror_mode": {
    "name": "ipython",
    "version": 3
   },
   "file_extension": ".py",
   "mimetype": "text/x-python",
   "name": "python",
   "nbconvert_exporter": "python",
   "pygments_lexer": "ipython3",
   "version": "3.7.9"
  }
 },
 "nbformat": 4,
 "nbformat_minor": 4
}
